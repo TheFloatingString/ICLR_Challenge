{
 "cells": [
  {
   "cell_type": "markdown",
   "metadata": {},
   "source": [
    "# Reproduction des résultats d'une publication de ICLR"
   ]
  },
  {
   "cell_type": "markdown",
   "metadata": {},
   "source": [
    "Conçu par Laurence Liang, le jeudi 7 juin 2018, dans le contexte de reproduire la publication \"When is a Convolutional Filter Easy to Learn\", https://openreview.net/forum?id=SkA-IE06W des chercheurs **Simon S. Du(CMU), Jason D. Lee (USC), Yuandong Tianm (Facebook AI)**."
   ]
  },
  {
   "cell_type": "markdown",
   "metadata": {},
   "source": [
    "### But"
   ]
  },
  {
   "cell_type": "markdown",
   "metadata": {},
   "source": [
    "J'ai conçu une classe qui utilise un réseau neuronal convolutif (CNN), **iclr_conv** (inclus dans ce dossier GitHub), afin d'étudier l'évolution de l'apprentissage d'un CNN en temps polynomial sous forme de **\"relative loss\"**.\n",
    "\n",
    "Je varie l'initialisaiton des filtres du CNN en modifiant le seed pour l'initialisateur **glorot** en utilisant 3 seed différents.\n",
    "\n",
    "J'utilise la même tâche que les chercheurs, la tâche de **MNIST**. Je maintiens les mêmes fonctions d'activation, l'architecture et la durée de l'entraînement."
   ]
  },
  {
   "cell_type": "markdown",
   "metadata": {},
   "source": [
    "### Résumé des résultats obtenus"
   ]
  },
  {
   "cell_type": "markdown",
   "metadata": {},
   "source": [
    "Pour 2 des 3 initialisateurs utilisés, je constate que la courbe du \"loss relative\" suit une relation prévisible qui se ressemble à celle de la fonction logarithmique. **Cela complète les observations de la publication d'ICLR.** Toutefois, la courbe du seed=3 se différencie des 2 autres.\n",
    "\n",
    "Mes résultats reproduits semblent affirmer que l'apprentissage par CNN suit une tendance en temps polynomial, mais qu'on a trouvé un exemple qui oppose ce constat, dont la raison n'est pas connue.\n",
    "\n",
    "Il reste ainsi à faire davantage d'essais pour observer cette tendance en temps polynomial."
   ]
  },
  {
   "cell_type": "markdown",
   "metadata": {},
   "source": [
    "### Importer librairies"
   ]
  },
  {
   "cell_type": "markdown",
   "metadata": {},
   "source": [
    "J'utilise la libraire Keras pour créer des réseaux de neurones. J'ai conçu un module, iclr_conv (dont le code se retrouve sur ce dossier GitHub), qui sert à identifier des images de l'ensemble MNIST."
   ]
  },
  {
   "cell_type": "code",
   "execution_count": 1,
   "metadata": {},
   "outputs": [
    {
     "name": "stderr",
     "output_type": "stream",
     "text": [
      "C:\\ProgramData\\Anaconda3\\lib\\site-packages\\h5py\\__init__.py:36: FutureWarning: Conversion of the second argument of issubdtype from `float` to `np.floating` is deprecated. In future, it will be treated as `np.float64 == np.dtype(float).type`.\n",
      "  from ._conv import register_converters as _register_converters\n",
      "Using TensorFlow backend.\n"
     ]
    }
   ],
   "source": [
    "from keras.datasets import mnist\n",
    "from keras.utils import np_utils\n",
    "import matplotlib.pyplot as plt\n",
    "import matplotlib.image as mpimg\n",
    "import math\n",
    "import iclr_conv\n",
    "import numpy as np"
   ]
  },
  {
   "cell_type": "code",
   "execution_count": 6,
   "metadata": {},
   "outputs": [],
   "source": [
    "# Load data\n",
    "(X_train, y_train), (X_test, y_test) = mnist.load_data()"
   ]
  },
  {
   "cell_type": "code",
   "execution_count": 7,
   "metadata": {},
   "outputs": [],
   "source": [
    "# Reshape to be [samples][pixels][width][height]\n",
    "X_train = X_train.reshape(X_train.shape[0], 1, 28, 28).astype('float32')\n",
    "X_test = X_test.reshape(X_test.shape[0], 1, 28, 28).astype('float32')\n",
    "\n",
    "# Labels\n",
    "y_train = np_utils.to_categorical(y_train)\n",
    "y_test = np_utils.to_categorical(y_test)"
   ]
  },
  {
   "cell_type": "markdown",
   "metadata": {},
   "source": [
    "### Analyser les données"
   ]
  },
  {
   "cell_type": "markdown",
   "metadata": {},
   "source": [
    "Je calcule la moyenne des valeurs numériques des données MNIST afin d'en servir pour calculer le \"relative loss\""
   ]
  },
  {
   "cell_type": "code",
   "execution_count": 8,
   "metadata": {},
   "outputs": [],
   "source": [
    "avg_sum = 0\n",
    "for image in X_test:\n",
    "    N = len(X_test)\n",
    "    for container in image:\n",
    "        sum_of_datapoint = 0.0\n",
    "        for row in container:\n",
    "            for value in row:\n",
    "                sum_of_datapoint += value\n",
    "    avg = sum_of_datapoint/784\n",
    "    avg_sum += avg\n",
    "\n",
    "final_avg = avg_sum/10000"
   ]
  },
  {
   "cell_type": "markdown",
   "metadata": {},
   "source": [
    "\n",
    "### Lire données"
   ]
  },
  {
   "cell_type": "markdown",
   "metadata": {},
   "source": [
    "Je lis les données de l'erreur de chaque itération d'un réseau neuronal Keras (ma classe **ConvNet** de mon module **iclr_conv**. Je calcule le \"relative loss\" par le logarithme du taux d'erreur au carré divisé par le moyen terme des valeurs de l'ensemble **MNIST**."
   ]
  },
  {
   "cell_type": "code",
   "execution_count": 23,
   "metadata": {},
   "outputs": [],
   "source": [
    "relative_loss = []\n",
    "for value in np.load(\"data/cnn1_val_acc.npy\"):\n",
    "    relative_loss.append(math.log(((1-value)**2)/(final_avg**2), 10))"
   ]
  },
  {
   "cell_type": "code",
   "execution_count": 40,
   "metadata": {},
   "outputs": [],
   "source": [
    "relative_loss_2 = []\n",
    "for value in np.load(\"data/cnn2_val_acc.npy\"):\n",
    "    relative_loss_2.append(math.log(((1-value)**2)/(final_avg**2), 10))"
   ]
  },
  {
   "cell_type": "code",
   "execution_count": 25,
   "metadata": {},
   "outputs": [],
   "source": [
    "relative_loss_3 = []\n",
    "for value in np.load(\"data/cnn3_val_acc.npy\"):\n",
    "    relative_loss_3.append(math.log(((1-value)**2)/(final_avg**2), 10))"
   ]
  },
  {
   "cell_type": "markdown",
   "metadata": {},
   "source": [
    "## Visualiser les résultats"
   ]
  },
  {
   "cell_type": "code",
   "execution_count": 45,
   "metadata": {},
   "outputs": [],
   "source": [
    "x_axis = [x for x in range(50)]\n",
    "\n",
    "plt.plot(x_axis, relative_loss, label='Seed=0', color='black')\n",
    "plt.plot(x_axis, relative_loss_2, label='Seed=1', color='blue')\n",
    "plt.plot(x_axis, relative_loss_3, label='Seed=3', color='red')\n",
    "\n",
    "plt.xlim(0, 49)\n",
    "plt.ylim(-8, 0)\n",
    "\n",
    "plt.xlabel(\"Époque\")\n",
    "plt.ylabel(\"Relative loss\")\n",
    "\n",
    "plt.title(\"Observation du \\\"loss relative\\\" d'un CNN sur MNIST en modifiant ses filtres\")\n",
    "plt.grid()\n",
    "plt.legend()\n",
    "plt.savefig(\"Résultats/Observation.png\", dpi=1000)\n",
    "plt.close()"
   ]
  },
  {
   "cell_type": "code",
   "execution_count": 44,
   "metadata": {},
   "outputs": [
    {
     "data": {
      "image/png": "[encoded data removed]",
      "text/plain": [
       "<matplotlib.figure.Figure at 0x22a7972d588>"
      ]
     },
     "metadata": {},
     "output_type": "display_data"
    }
   ],
   "source": [
    "%matplotlib inline\n",
    "\n",
    "# Visualiser résultats\n",
    "publication = mpimg.imread('Résultats/Publication.png')\n",
    "reproduction = mpimg.imread('Résultats/Observation.png')\n",
    "\n",
    "plt.figure(figsize=(15,10))\n",
    "plt.subplot(1,2,1)\n",
    "plt.imshow(publication)\n",
    "plt.title(\"Résultats publiés\")\n",
    "plt.axis('off')\n",
    "plt.subplot(1,2,2)\n",
    "plt.imshow(reproduction)\n",
    "plt.title(\"Résultats reproduits\")\n",
    "plt.axis('off')\n",
    "plt.savefig(\"Résultats/Comparaison\", dpi=500)\n",
    "plt.show()\n",
    "plt.close()"
   ]
  },
  {
   "cell_type": "markdown",
   "metadata": {},
   "source": [
    "### Analyse"
   ]
  },
  {
   "cell_type": "markdown",
   "metadata": {},
   "source": [
    "On remarque que pour les essais quand le seed vaut 0 ou 1, la courbe suit une relation presque logarithmique. Les valeurs du \"loss relative\" ne sont pas les mêmes possiblement à cause d'un nombre différent de neurones dans les 2 réseaux, ou à cause d'une initialisation différente des images.\n",
    "\n",
    "Le cas quand seed vaut 3 contredit les 2 autres courbes. Celui-ci ne semble pas suivre une courbe logarithmique comme les résultats publiés ou les 2 autres courbes.\n",
    "\n",
    "Un deuxième essai avec davantage de contrôle sur les seed sera nécessaire pour vérifier ce résultat."
   ]
  },
  {
   "cell_type": "markdown",
   "metadata": {},
   "source": [
    "### Exemples de réseaux neuronaux"
   ]
  },
  {
   "cell_type": "markdown",
   "metadata": {},
   "source": [
    "Ici sont des exemples de l'utilisation de mon réseau neuronal de ma classe **ConvNet** du module **iclr_conv**."
   ]
  },
  {
   "cell_type": "code",
   "execution_count": 38,
   "metadata": {
    "scrolled": false
   },
   "outputs": [
    {
     "name": "stdout",
     "output_type": "stream",
     "text": [
      "Train on 60000 samples, validate on 10000 samples\n",
      "Epoch 1/50\n",
      " - 59s - loss: 5.7384 - acc: 0.4702 - val_loss: 0.9692 - val_acc: 0.7270\n",
      "Epoch 2/50\n",
      " - 53s - loss: 0.9608 - acc: 0.6871 - val_loss: 0.9012 - val_acc: 0.6318\n",
      "Epoch 3/50\n",
      " - 70s - loss: 0.6978 - acc: 0.7530 - val_loss: 0.4588 - val_acc: 0.8723\n",
      "Epoch 4/50\n",
      " - 65s - loss: 0.4091 - acc: 0.8743 - val_loss: 0.7208 - val_acc: 0.8637\n",
      "Epoch 5/50\n",
      " - 63s - loss: 0.4486 - acc: 0.8764 - val_loss: 0.2644 - val_acc: 0.9301\n",
      "Epoch 6/50\n",
      " - 60s - loss: 0.2608 - acc: 0.9320 - val_loss: 0.2113 - val_acc: 0.9434\n",
      "Epoch 7/50\n",
      " - 72s - loss: 0.2179 - acc: 0.9419 - val_loss: 0.1888 - val_acc: 0.9486\n",
      "Epoch 8/50\n",
      " - 70s - loss: 0.1884 - acc: 0.9481 - val_loss: 0.1823 - val_acc: 0.9494\n",
      "Epoch 9/50\n",
      " - 67s - loss: 0.1778 - acc: 0.9504 - val_loss: 0.1564 - val_acc: 0.9539\n",
      "Epoch 10/50\n",
      " - 60s - loss: 0.1619 - acc: 0.9546 - val_loss: 0.1510 - val_acc: 0.9590\n",
      "Epoch 11/50\n",
      " - 59s - loss: 0.1501 - acc: 0.9574 - val_loss: 0.1597 - val_acc: 0.9544\n",
      "Epoch 12/50\n",
      " - 58s - loss: 0.1434 - acc: 0.9587 - val_loss: 0.1323 - val_acc: 0.9617\n",
      "Epoch 13/50\n",
      " - 58s - loss: 0.1353 - acc: 0.9610 - val_loss: 0.1422 - val_acc: 0.9598\n",
      "Epoch 14/50\n",
      " - 59s - loss: 0.1307 - acc: 0.9628 - val_loss: 0.1437 - val_acc: 0.9611\n",
      "Epoch 15/50\n",
      " - 58s - loss: 0.1232 - acc: 0.9654 - val_loss: 0.1324 - val_acc: 0.9639\n",
      "Epoch 16/50\n",
      " - 59s - loss: 0.1203 - acc: 0.9657 - val_loss: 0.1258 - val_acc: 0.9636\n",
      "Epoch 17/50\n",
      " - 58s - loss: 0.1153 - acc: 0.9671 - val_loss: 0.1482 - val_acc: 0.9593\n",
      "Epoch 18/50\n",
      " - 59s - loss: 0.1109 - acc: 0.9678 - val_loss: 0.1193 - val_acc: 0.9675\n",
      "Epoch 19/50\n",
      " - 67s - loss: 0.1062 - acc: 0.9693 - val_loss: 0.1183 - val_acc: 0.9658\n",
      "Epoch 20/50\n",
      " - 61s - loss: 0.1067 - acc: 0.9692 - val_loss: 0.1130 - val_acc: 0.9682\n",
      "Epoch 21/50\n",
      " - 60s - loss: 0.1002 - acc: 0.9699 - val_loss: 0.1388 - val_acc: 0.9615\n",
      "Epoch 22/50\n",
      " - 58s - loss: 0.1009 - acc: 0.9704 - val_loss: 0.1135 - val_acc: 0.9672\n",
      "Epoch 23/50\n",
      " - 59s - loss: 0.0976 - acc: 0.9712 - val_loss: 0.1053 - val_acc: 0.9703\n",
      "Epoch 24/50\n",
      " - 59s - loss: 0.0921 - acc: 0.9738 - val_loss: 0.1091 - val_acc: 0.9682\n",
      "Epoch 25/50\n",
      " - 58s - loss: 0.0929 - acc: 0.9724 - val_loss: 0.1149 - val_acc: 0.9677\n",
      "Epoch 26/50\n",
      " - 58s - loss: 0.0912 - acc: 0.9732 - val_loss: 0.1259 - val_acc: 0.9653\n",
      "Epoch 27/50\n",
      " - 58s - loss: 0.0898 - acc: 0.9732 - val_loss: 0.1139 - val_acc: 0.9676\n",
      "Epoch 28/50\n",
      " - 58s - loss: 0.0867 - acc: 0.9746 - val_loss: 0.1015 - val_acc: 0.9716\n",
      "Epoch 29/50\n",
      " - 59s - loss: 0.0843 - acc: 0.9751 - val_loss: 0.0957 - val_acc: 0.9727\n",
      "Epoch 30/50\n",
      " - 61s - loss: 0.0837 - acc: 0.9752 - val_loss: 0.1025 - val_acc: 0.9713\n",
      "Epoch 31/50\n",
      " - 62s - loss: 0.0839 - acc: 0.9748 - val_loss: 0.0923 - val_acc: 0.9739\n",
      "Epoch 32/50\n",
      " - 59s - loss: 0.0810 - acc: 0.9762 - val_loss: 0.1058 - val_acc: 0.9670\n",
      "Epoch 33/50\n",
      " - 59s - loss: 0.0787 - acc: 0.9763 - val_loss: 0.1006 - val_acc: 0.9720\n",
      "Epoch 34/50\n",
      " - 59s - loss: 0.0782 - acc: 0.9767 - val_loss: 0.0990 - val_acc: 0.9726\n",
      "Epoch 35/50\n",
      " - 59s - loss: 0.0776 - acc: 0.9769 - val_loss: 0.0986 - val_acc: 0.9723\n",
      "Epoch 36/50\n",
      " - 59s - loss: 0.0783 - acc: 0.9759 - val_loss: 0.0948 - val_acc: 0.9732\n",
      "Epoch 37/50\n",
      " - 58s - loss: 0.0756 - acc: 0.9778 - val_loss: 0.0957 - val_acc: 0.9734\n",
      "Epoch 38/50\n",
      " - 58s - loss: 0.0735 - acc: 0.9779 - val_loss: 0.0860 - val_acc: 0.9738\n",
      "Epoch 39/50\n",
      " - 59s - loss: 0.0757 - acc: 0.9769 - val_loss: 0.0853 - val_acc: 0.9732\n",
      "Epoch 40/50\n",
      " - 58s - loss: 0.0733 - acc: 0.9778 - val_loss: 0.0904 - val_acc: 0.9724\n",
      "Epoch 41/50\n",
      " - 58s - loss: 0.0718 - acc: 0.9787 - val_loss: 0.0926 - val_acc: 0.9726\n",
      "Epoch 42/50\n",
      " - 64s - loss: 0.0695 - acc: 0.9788 - val_loss: 0.1072 - val_acc: 0.9684\n",
      "Epoch 43/50\n",
      " - 55s - loss: 0.0710 - acc: 0.9781 - val_loss: 0.0845 - val_acc: 0.9755\n",
      "Epoch 44/50\n",
      " - 58s - loss: 0.0696 - acc: 0.9794 - val_loss: 0.0986 - val_acc: 0.9725\n",
      "Epoch 45/50\n",
      " - 60s - loss: 0.0713 - acc: 0.9783 - val_loss: 0.0843 - val_acc: 0.9746\n",
      "Epoch 46/50\n",
      " - 61s - loss: 0.0705 - acc: 0.9780 - val_loss: 0.0868 - val_acc: 0.9739\n",
      "Epoch 47/50\n",
      " - 68s - loss: 0.0680 - acc: 0.9795 - val_loss: 0.1049 - val_acc: 0.9718\n",
      "Epoch 48/50\n",
      " - 68s - loss: 0.0677 - acc: 0.9798 - val_loss: 0.0798 - val_acc: 0.9749\n",
      "Epoch 49/50\n",
      " - 67s - loss: 0.0666 - acc: 0.9798 - val_loss: 0.0814 - val_acc: 0.9764\n",
      "Epoch 50/50\n",
      " - 73s - loss: 0.0656 - acc: 0.9800 - val_loss: 0.0922 - val_acc: 0.9746\n"
     ]
    }
   ],
   "source": [
    "cnn2 = iclr_conv.ConvNet(None, None, 1)\n",
    "cnn2.run_conv_net(X_train, X_test, y_train, y_test, epoch_num=50)"
   ]
  },
  {
   "cell_type": "code",
   "execution_count": 6,
   "metadata": {},
   "outputs": [
    {
     "name": "stdout",
     "output_type": "stream",
     "text": [
      "Train on 60000 samples, validate on 10000 samples\n",
      "Epoch 1/50\n",
      " - 61s - loss: 12.8169 - acc: 0.2035 - val_loss: 12.6789 - val_acc: 0.2125\n",
      "Epoch 2/50\n",
      " - 59s - loss: 12.7230 - acc: 0.2101 - val_loss: 12.6685 - val_acc: 0.2137\n",
      "Epoch 3/50\n",
      " - 59s - loss: 5.5903 - acc: 0.2109 - val_loss: 2.0538 - val_acc: 0.2076\n",
      "Epoch 4/50\n",
      " - 57s - loss: 2.0434 - acc: 0.2096 - val_loss: 2.0264 - val_acc: 0.2131\n",
      "Epoch 5/50\n",
      " - 56s - loss: 2.0259 - acc: 0.2133 - val_loss: 2.0149 - val_acc: 0.2135\n",
      "Epoch 6/50\n",
      " - 57s - loss: 2.0159 - acc: 0.2134 - val_loss: 2.0053 - val_acc: 0.2137\n",
      "Epoch 7/50\n",
      " - 57s - loss: 2.0078 - acc: 0.2142 - val_loss: 2.0080 - val_acc: 0.2118\n",
      "Epoch 8/50\n",
      " - 57s - loss: 2.0023 - acc: 0.2138 - val_loss: 1.9948 - val_acc: 0.2139\n",
      "Epoch 9/50\n",
      " - 57s - loss: 1.8724 - acc: 0.2615 - val_loss: 1.7299 - val_acc: 0.2618\n",
      "Epoch 10/50\n",
      " - 59s - loss: 1.7817 - acc: 0.2940 - val_loss: 1.6830 - val_acc: 0.3157\n",
      "Epoch 11/50\n",
      " - 57s - loss: 1.6131 - acc: 0.3718 - val_loss: 1.3029 - val_acc: 0.5611\n",
      "Epoch 12/50\n",
      " - 57s - loss: 0.9399 - acc: 0.6812 - val_loss: 0.6505 - val_acc: 0.8385\n",
      "Epoch 13/50\n",
      " - 57s - loss: 0.5158 - acc: 0.8566 - val_loss: 0.3937 - val_acc: 0.8897\n",
      "Epoch 14/50\n",
      " - 56s - loss: 0.3487 - acc: 0.9061 - val_loss: 0.2974 - val_acc: 0.9223\n",
      "Epoch 15/50\n",
      " - 57s - loss: 0.2550 - acc: 0.9304 - val_loss: 0.2119 - val_acc: 0.9412\n",
      "Epoch 16/50\n",
      " - 59s - loss: 0.2210 - acc: 0.9392 - val_loss: 0.2154 - val_acc: 0.9414\n",
      "Epoch 17/50\n",
      " - 57s - loss: 0.2051 - acc: 0.9422 - val_loss: 0.1935 - val_acc: 0.9470\n",
      "Epoch 18/50\n",
      " - 56s - loss: 0.1808 - acc: 0.9489 - val_loss: 0.1713 - val_acc: 0.9515\n",
      "Epoch 19/50\n",
      " - 56s - loss: 0.1621 - acc: 0.9542 - val_loss: 0.1596 - val_acc: 0.9543\n",
      "Epoch 20/50\n",
      " - 56s - loss: 0.1527 - acc: 0.9568 - val_loss: 0.1814 - val_acc: 0.9516\n",
      "Epoch 21/50\n",
      " - 56s - loss: 0.1437 - acc: 0.9600 - val_loss: 0.1503 - val_acc: 0.9568\n",
      "Epoch 22/50\n",
      " - 58s - loss: 0.1390 - acc: 0.9602 - val_loss: 0.1390 - val_acc: 0.9609\n",
      "Epoch 23/50\n",
      " - 62s - loss: 0.1359 - acc: 0.9612 - val_loss: 0.1662 - val_acc: 0.9557\n",
      "Epoch 24/50\n",
      " - 57s - loss: 0.1266 - acc: 0.9637 - val_loss: 0.1434 - val_acc: 0.9592\n",
      "Epoch 25/50\n",
      " - 57s - loss: 0.1223 - acc: 0.9652 - val_loss: 0.1311 - val_acc: 0.9644\n",
      "Epoch 26/50\n",
      " - 67s - loss: 0.1199 - acc: 0.9652 - val_loss: 0.1608 - val_acc: 0.9535\n",
      "Epoch 27/50\n",
      " - 69s - loss: 0.1169 - acc: 0.9659 - val_loss: 0.1417 - val_acc: 0.9628\n",
      "Epoch 28/50\n",
      " - 67s - loss: 0.1153 - acc: 0.9665 - val_loss: 0.1419 - val_acc: 0.9599\n",
      "Epoch 29/50\n",
      " - 65s - loss: 0.1106 - acc: 0.9678 - val_loss: 0.1178 - val_acc: 0.9669\n",
      "Epoch 30/50\n",
      " - 67s - loss: 0.1103 - acc: 0.9678 - val_loss: 0.1301 - val_acc: 0.9655\n",
      "Epoch 31/50\n",
      " - 61s - loss: 0.1061 - acc: 0.9702 - val_loss: 0.1297 - val_acc: 0.9634\n",
      "Epoch 32/50\n",
      " - 58s - loss: 0.1047 - acc: 0.9691 - val_loss: 0.1216 - val_acc: 0.9673\n",
      "Epoch 33/50\n",
      " - 57s - loss: 0.1528 - acc: 0.9577 - val_loss: 0.1364 - val_acc: 0.9627\n",
      "Epoch 34/50\n",
      " - 57s - loss: 0.1084 - acc: 0.9684 - val_loss: 0.1196 - val_acc: 0.9662\n",
      "Epoch 35/50\n",
      " - 57s - loss: 0.1052 - acc: 0.9692 - val_loss: 0.1327 - val_acc: 0.9613\n",
      "Epoch 36/50\n",
      " - 57s - loss: 0.1046 - acc: 0.9693 - val_loss: 0.1125 - val_acc: 0.9682\n",
      "Epoch 37/50\n",
      " - 57s - loss: 0.1024 - acc: 0.9693 - val_loss: 0.1140 - val_acc: 0.9679\n",
      "Epoch 38/50\n",
      " - 57s - loss: 0.0994 - acc: 0.9702 - val_loss: 0.1148 - val_acc: 0.9705\n",
      "Epoch 39/50\n",
      " - 57s - loss: 0.0969 - acc: 0.9715 - val_loss: 0.1118 - val_acc: 0.9693\n",
      "Epoch 40/50\n",
      " - 56s - loss: 0.0954 - acc: 0.9713 - val_loss: 0.1274 - val_acc: 0.9652\n",
      "Epoch 41/50\n",
      " - 56s - loss: 0.0954 - acc: 0.9721 - val_loss: 0.1088 - val_acc: 0.9711\n",
      "Epoch 42/50\n",
      " - 57s - loss: 0.0915 - acc: 0.9730 - val_loss: 0.1114 - val_acc: 0.9679\n",
      "Epoch 43/50\n",
      " - 57s - loss: 0.0936 - acc: 0.9723 - val_loss: 0.1195 - val_acc: 0.9662\n",
      "Epoch 44/50\n",
      " - 56s - loss: 0.0889 - acc: 0.9735 - val_loss: 0.1091 - val_acc: 0.9720\n",
      "Epoch 45/50\n",
      " - 56s - loss: 0.0895 - acc: 0.9733 - val_loss: 0.1082 - val_acc: 0.9728\n",
      "Epoch 46/50\n",
      " - 57s - loss: 0.0877 - acc: 0.9740 - val_loss: 0.1091 - val_acc: 0.9716\n",
      "Epoch 47/50\n",
      " - 56s - loss: 0.0870 - acc: 0.9746 - val_loss: 0.1144 - val_acc: 0.9701\n",
      "Epoch 48/50\n",
      " - 56s - loss: 0.0866 - acc: 0.9742 - val_loss: 0.1200 - val_acc: 0.9676\n",
      "Epoch 49/50\n",
      " - 56s - loss: 0.0842 - acc: 0.9750 - val_loss: 0.1041 - val_acc: 0.9742\n",
      "Epoch 50/50\n",
      " - 56s - loss: 0.0838 - acc: 0.9753 - val_loss: 0.1019 - val_acc: 0.9733\n"
     ]
    }
   ],
   "source": [
    "cnn3 = iclr_conv.ConvNet(None, None, 3)\n",
    "cnn3.run_conv_net(X_train, X_test, y_train, y_test, epoch_num=50)"
   ]
  },
  {
   "cell_type": "code",
   "execution_count": null,
   "metadata": {},
   "outputs": [],
   "source": [
    "cnn1 = iclr_conv.ConvNet(None, None, 0)\n",
    "cnn1.run_conv_net(X_train, X_test, y_train, y_test, epoch_num=50)"
   ]
  },
  {
   "cell_type": "markdown",
   "metadata": {},
   "source": [
    "### Sauvegarder les données"
   ]
  },
  {
   "cell_type": "code",
   "execution_count": 44,
   "metadata": {},
   "outputs": [],
   "source": [
    "np.save('data/cnn3_loss',cnn3.loss)\n",
    "np.save('data/cnn3_val_loss',cnn3.val_loss)\n",
    "np.save('data/cnn3_acc',cnn3.acc)\n",
    "np.save('data/cnn3_val_acc',cnn3.val_acc)"
   ]
  },
  {
   "cell_type": "code",
   "execution_count": 39,
   "metadata": {},
   "outputs": [],
   "source": [
    "np.save('data/cnn2_loss',cnn2.loss)\n",
    "np.save('data/cnn2_val_loss',cnn2.val_loss)\n",
    "np.save('data/cnn2_acc',cnn2.acc)\n",
    "np.save('data/cnn2_val_acc',cnn2.val_acc)"
   ]
  }
 ],
 "metadata": {
  "kernelspec": {
   "display_name": "Python 3",
   "language": "python",
   "name": "python3"
  },
  "language_info": {
   "codemirror_mode": {
    "name": "ipython",
    "version": 3
   },
   "file_extension": ".py",
   "mimetype": "text/x-python",
   "name": "python",
   "nbconvert_exporter": "python",
   "pygments_lexer": "ipython3",
   "version": "3.6.4"
  }
 },
 "nbformat": 4,
 "nbformat_minor": 2
}
